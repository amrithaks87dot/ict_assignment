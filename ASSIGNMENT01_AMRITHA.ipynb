{
  "nbformat": 4,
  "nbformat_minor": 0,
  "metadata": {
    "colab": {
      "provenance": [],
      "authorship_tag": "ABX9TyN22mKYa6xRbCh6w3U/yqk6",
      "include_colab_link": true
    },
    "kernelspec": {
      "name": "python3",
      "display_name": "Python 3"
    },
    "language_info": {
      "name": "python"
    }
  },
  "cells": [
    {
      "cell_type": "markdown",
      "metadata": {
        "id": "view-in-github",
        "colab_type": "text"
      },
      "source": [
        "<a href=\"https://colab.research.google.com/github/amrithaks87dot/ict_assignment/blob/main/ASSIGNMENT01_AMRITHA.ipynb\" target=\"_parent\"><img src=\"https://colab.research.google.com/assets/colab-badge.svg\" alt=\"Open In Colab\"/></a>"
      ]
    },
    {
      "cell_type": "markdown",
      "source": [
        "1 question answer"
      ],
      "metadata": {
        "id": "EefemUD845UD"
      }
    },
    {
      "cell_type": "code",
      "source": [
        "a = int(input(\" item 1 price : \"))\n",
        "b = int(input(\" item 1 quantity: \"))\n",
        "c=int(input(\" item 2 price: \"))\n",
        "d=int(input(\" item 2 quantity: \"))\n",
        "t= a*b+c*d\n",
        "print(t)"
      ],
      "metadata": {
        "colab": {
          "base_uri": "https://localhost:8080/"
        },
        "id": "I7PZKh6fWZBU",
        "outputId": "d65cc791-c0a8-41d0-abb9-beb431e400e6"
      },
      "execution_count": null,
      "outputs": [
        {
          "output_type": "stream",
          "name": "stdout",
          "text": [
            " item 1 price : 45\n",
            " item 1 quantity: 3\n",
            " item 2 price: 30\n",
            " item 2 quantity: 2\n",
            "195\n"
          ]
        }
      ]
    },
    {
      "cell_type": "markdown",
      "source": [
        "2 q answer"
      ],
      "metadata": {
        "id": "h5n6onM15AsC"
      }
    },
    {
      "cell_type": "code",
      "source": [
        "c= int(input(\"enter temperature in celsius:\"))\n",
        "f=c*9/5+32\n",
        "print(\"temperature in fahreheit:\",f)"
      ],
      "metadata": {
        "colab": {
          "base_uri": "https://localhost:8080/"
        },
        "outputId": "dda02d39-7ff3-46e2-e1ce-8a68b0c9f72b",
        "id": "Mud74BvidqcL"
      },
      "execution_count": null,
      "outputs": [
        {
          "output_type": "stream",
          "name": "stdout",
          "text": [
            "enter temperature in celsius:30\n",
            "temperature in fahreheit: 86.0\n"
          ]
        }
      ]
    },
    {
      "cell_type": "markdown",
      "source": [
        "3 Q Answer"
      ],
      "metadata": {
        "id": "oXCa3OY84-3a"
      }
    },
    {
      "cell_type": "code",
      "metadata": {
        "colab": {
          "base_uri": "https://localhost:8080/"
        },
        "id": "0keCm8fOzVgY",
        "outputId": "80446252-6dad-4d52-992d-7d46b7d3b0ed"
      },
      "source": [
        "\n",
        "a= int(input (\"enter basic salary:\"))\n",
        "b= int(input(\"enter HRA IN PERCENTAGE:\"))\n",
        "c= int(input(\"enter DA IN PERCENTAGE:\"))\n",
        "print(\"net salary:\",a+(a*b/100)+(a*c/100))\n",
        "\n"
      ],
      "execution_count": null,
      "outputs": [
        {
          "output_type": "stream",
          "name": "stdout",
          "text": [
            "enter basic salary:20000\n",
            "enter HRA IN PERCENTAGE:20\n",
            "enter DA IN PERCENTAGE:10\n",
            "net salary: 26000.0\n"
          ]
        }
      ]
    },
    {
      "cell_type": "markdown",
      "source": [
        "4 Q Answer"
      ],
      "metadata": {
        "id": "-1gOUHDk8g2H"
      }
    },
    {
      "cell_type": "code",
      "source": [
        "a=int(input(\"enter the principle amount:\"))\n",
        "b=int(input(\"enter rate of interest:\"))\n",
        "c=int(input(\"time in year\"))\n",
        "print(\"simple interest:\",(a*b*c)/100)"
      ],
      "metadata": {
        "colab": {
          "base_uri": "https://localhost:8080/"
        },
        "id": "GYmwP1ok5UVi",
        "outputId": "cd1c3d16-b4e7-45fe-be3f-a83e9784df32"
      },
      "execution_count": null,
      "outputs": [
        {
          "output_type": "stream",
          "name": "stdout",
          "text": [
            "enter the principle amount:10000\n",
            "enter rate of interest:5\n",
            "time in year2\n",
            "simple interest: 1000.0\n"
          ]
        }
      ]
    },
    {
      "cell_type": "markdown",
      "source": [
        "5 Q Answer"
      ],
      "metadata": {
        "id": "fKUVx8ZT-ZcF"
      }
    },
    {
      "cell_type": "code",
      "source": [
        "tot_minutes = int(input(\"enter total minutes:\"))\n",
        "hours=tot_minutes // 60\n",
        "minutes=tot_minutes % 60\n",
        "print(hours,\":\",minutes)\n"
      ],
      "metadata": {
        "colab": {
          "base_uri": "https://localhost:8080/"
        },
        "id": "y0VrikRt_lRC",
        "outputId": "0ae3282d-0722-4084-a072-3f80142dba26"
      },
      "execution_count": null,
      "outputs": [
        {
          "output_type": "stream",
          "name": "stdout",
          "text": [
            "enter total minutes:130\n",
            "2 : 10\n"
          ]
        }
      ]
    },
    {
      "cell_type": "markdown",
      "source": [
        "6 Q Answer"
      ],
      "metadata": {
        "id": "e7d8zX1jCmfQ"
      }
    },
    {
      "cell_type": "code",
      "source": [
        "W = float(input(\"weight=\"))\n",
        "H = float(input(\"height=\"))\n",
        "BMI = W/(H*H)\n",
        "print(\"BMI=\",BMI)\n"
      ],
      "metadata": {
        "colab": {
          "base_uri": "https://localhost:8080/"
        },
        "id": "AmlWUNTrBJLJ",
        "outputId": "dabb1567-8765-42ad-9a5a-50c3c8984328"
      },
      "execution_count": null,
      "outputs": [
        {
          "output_type": "stream",
          "name": "stdout",
          "text": [
            "weight=60\n",
            "height=1.65\n",
            "BMI= 22.03856749311295\n"
          ]
        }
      ]
    },
    {
      "cell_type": "markdown",
      "source": [
        "7 Q Answer"
      ],
      "metadata": {
        "id": "SiCgSyXDDIOn"
      }
    },
    {
      "cell_type": "code",
      "source": [
        "original_price =float(input('enter theoriginal price:'))\n",
        "discounted_amount = original_price-(original_price*0.10)\n",
        "print(\"discounted price:\",discounted_amount)"
      ],
      "metadata": {
        "colab": {
          "base_uri": "https://localhost:8080/"
        },
        "id": "gx9-UOB6DBKW",
        "outputId": "9908af54-2648-4d4d-c13b-1cf2be991b4c"
      },
      "execution_count": null,
      "outputs": [
        {
          "output_type": "stream",
          "name": "stdout",
          "text": [
            "enter theoriginal price:1200\n",
            "discounted price: 1080.0\n"
          ]
        }
      ]
    },
    {
      "cell_type": "markdown",
      "source": [
        "8 Q Answer"
      ],
      "metadata": {
        "id": "L2w1_-UTEuKW"
      }
    },
    {
      "cell_type": "code",
      "metadata": {
        "colab": {
          "base_uri": "https://localhost:8080/"
        },
        "id": "VLKBeP_EFeer",
        "outputId": "5fd15a27-ca68-4e62-f703-fcf8efe78092"
      },
      "source": [
        "import math\n",
        "\n",
        "a = float(input(\"Enter side a: \"))\n",
        "b = float(input(\"Enter side b: \"))\n",
        "c = float(input(\"Enter side c: \"))\n",
        "\n",
        "s = (a + b + c) / 2\n",
        "area = (s * (s - a) * (s - b) * (s - c))**(0.5)\n",
        "\n",
        "print(f\"Area of the triangle: {area:.2f}\")"
      ],
      "execution_count": null,
      "outputs": [
        {
          "output_type": "stream",
          "name": "stdout",
          "text": [
            "Enter side a: 5\n",
            "Enter side b: 6\n",
            "Enter side c: 7\n",
            "Area of the triangle: 14.70\n"
          ]
        }
      ]
    },
    {
      "cell_type": "markdown",
      "source": [
        "9 Q Answer"
      ],
      "metadata": {
        "id": "F72KHcXIVzOC"
      }
    },
    {
      "cell_type": "code",
      "source": [
        "\n",
        "l=int(input(\"enter the wall length (m): \"))\n",
        "h=int(input(\"enter the wall height(m): \"))\n",
        "a1=l*h\n",
        "a = a1-(2*(1.5*1.2))\n",
        "print(\"Total area to be painted= \",a)\n",
        "c = a*25\n",
        "print(\"Total painting cost=\",c)"
      ],
      "metadata": {
        "colab": {
          "base_uri": "https://localhost:8080/"
        },
        "id": "DXR1giwjNE-L",
        "outputId": "269d3efa-a272-439e-f2aa-6a4306fe77cb"
      },
      "execution_count": 54,
      "outputs": [
        {
          "output_type": "stream",
          "name": "stdout",
          "text": [
            "enter the wall length (m): 12\n",
            "enter the wall height(m): 8\n",
            "Total area to be painted=  92.4\n",
            "Total painting cost= 2310.0\n"
          ]
        }
      ]
    },
    {
      "cell_type": "markdown",
      "source": [
        "10 Q Answer"
      ],
      "metadata": {
        "id": "tSjIFB5kP3RQ"
      }
    },
    {
      "cell_type": "code",
      "source": [
        "units_consumed = int(input(\"Enter number of units consumed: \"))\n",
        "rate_per_unit = 5.2\n",
        "fixed_charge = 100\n",
        "\n",
        "total_bill = (units_consumed * rate_per_unit) + fixed_charge\n",
        "\n",
        "print(f\"Electricity Bill: ₹{total_bill:.1f}\")"
      ],
      "metadata": {
        "id": "Qp_CdEqXNzla",
        "colab": {
          "base_uri": "https://localhost:8080/"
        },
        "outputId": "5443bcc5-04d3-4719-df58-3eb371d0435d"
      },
      "execution_count": 53,
      "outputs": [
        {
          "output_type": "stream",
          "name": "stdout",
          "text": [
            "Enter number of units consumed: 250\n",
            "Electricity Bill: ₹1400.0\n"
          ]
        }
      ]
    },
    {
      "cell_type": "code",
      "source": [],
      "metadata": {
        "id": "lqQ-vA_tPxwH"
      },
      "execution_count": 53,
      "outputs": []
    }
  ]
}